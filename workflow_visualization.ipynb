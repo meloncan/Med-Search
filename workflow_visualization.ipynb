{
  "cells": [
    {
      "cell_type": "raw",
      "metadata": {
        "vscode": {
          "languageId": "raw"
        }
      },
      "source": [
        "# Medical Paper Search Agent - Workflow 시각화\n",
        "\n",
        "이 노트북은 의료 논문 검색 에이전트의 LangGraph 워크플로우를 시각화합니다.\n"
      ]
    },
    {
      "cell_type": "raw",
      "metadata": {
        "vscode": {
          "languageId": "raw"
        }
      },
      "source": [
        "## 1. 필요한 라이브러리 Import\n"
      ]
    },
    {
      "cell_type": "code",
      "execution_count": 1,
      "metadata": {},
      "outputs": [
        {
          "name": "stdout",
          "output_type": "stream",
          "text": [
            "라이브러리 import 완료!\n"
          ]
        }
      ],
      "source": [
        "import asyncio\n",
        "import os\n",
        "import json\n",
        "from typing import TypedDict, Annotated, List\n",
        "from functools import partial\n",
        "import contextlib\n",
        "\n",
        "from dotenv import load_dotenv\n",
        "from langchain_core.messages import BaseMessage, HumanMessage, AIMessage, ToolMessage\n",
        "from langchain_openai import ChatOpenAI\n",
        "from langgraph.graph import StateGraph, END\n",
        "from langgraph.prebuilt import ToolNode\n",
        "\n",
        "# 시각화를 위한 라이브러리\n",
        "from langchain_teddynote.graphs import visualize_graph\n",
        "\n",
        "# MCP-Adapter 관련 라이브러리 (시각화에는 실제 연결 불필요)\n",
        "# from mcp import ClientSession, StdioServerParameters\n",
        "# from mcp.client.stdio import stdio_client\n",
        "# from langchain_mcp_adapters.tools import load_mcp_tools\n",
        "\n",
        "# .env 파일에서 환경 변수 로드\n",
        "load_dotenv()\n",
        "\n",
        "print(\"라이브러리 import 완료!\")\n"
      ]
    },
    {
      "cell_type": "raw",
      "metadata": {
        "vscode": {
          "languageId": "raw"
        }
      },
      "source": [
        "## 2. 상태 정의\n"
      ]
    },
    {
      "cell_type": "code",
      "execution_count": 2,
      "metadata": {},
      "outputs": [
        {
          "name": "stdout",
          "output_type": "stream",
          "text": [
            "상태 정의 완료!\n"
          ]
        }
      ],
      "source": [
        "# medical_agent.py에서 가져온 상태 정의\n",
        "class AgentState(TypedDict):\n",
        "    \"\"\"Agent의 상태를 정의합니다. LangGraph의 모든 노드는 이 상태를 공유하고 수정합니다.\"\"\"\n",
        "    # 대화의 흐름을 추적하기 위한 메시지 리스트\n",
        "    messages: Annotated[List[BaseMessage], lambda x, y: x + y]\n",
        "\n",
        "print(\"상태 정의 완료!\")\n"
      ]
    },
    {
      "cell_type": "raw",
      "metadata": {
        "vscode": {
          "languageId": "raw"
        }
      },
      "source": [
        "## 3. 노드 함수 정의\n"
      ]
    },
    {
      "cell_type": "code",
      "execution_count": 3,
      "metadata": {},
      "outputs": [
        {
          "name": "stdout",
          "output_type": "stream",
          "text": [
            "노드 함수 정의 완료!\n"
          ]
        }
      ],
      "source": [
        "# --- LangGraph 노드(Node) 정의 ---\n",
        "\n",
        "# 한글 → 영어 번역 노드\n",
        "async def translate_to_english(state: AgentState, translator_model):\n",
        "    \"\"\"한글 사용자 입력을 영어로 번역합니다.\"\"\"\n",
        "    messages = state[\"messages\"]\n",
        "    last_human_message = None\n",
        "    \n",
        "    # 마지막 사용자 메시지 찾기\n",
        "    for message in reversed(messages):\n",
        "        if isinstance(message, HumanMessage):\n",
        "            last_human_message = message\n",
        "            break\n",
        "    \n",
        "    if last_human_message is None:\n",
        "        return {\"messages\": []}\n",
        "    \n",
        "    # 번역 프롬프트\n",
        "    translation_prompt = f\"\"\"\n",
        "        다음 한글 텍스트를 의료/과학 논문 검색에 적합한 영어로 번역해주세요. \n",
        "        의학 용어는 정확한 영어 용어로 번역하고, 검색 키워드로 적합하도록 간결하게 번역해주세요.\n",
        "\n",
        "        한글 텍스트: {last_human_message.content}\n",
        "\n",
        "        영어 번역:\"\"\"\n",
        "\n",
        "    print(\"🔄 한글 → 영어 번역 중...\")\n",
        "    print(f\"원문: {last_human_message.content}\")\n",
        "    \n",
        "    response = await translator_model.ainvoke([HumanMessage(content=translation_prompt)])\n",
        "    translated_text = response.content.strip()\n",
        "    \n",
        "    print(f\"번역: {translated_text}\")\n",
        "    \n",
        "    # 번역된 내용으로 새로운 HumanMessage 생성\n",
        "    translated_message = HumanMessage(content=translated_text)\n",
        "    \n",
        "    # 기존 메시지들을 유지하되, 마지막 HumanMessage만 번역된 것으로 교체\n",
        "    new_messages = []\n",
        "    for message in messages[:-1]:  # 마지막 메시지 제외\n",
        "        new_messages.append(message)\n",
        "    new_messages.append(translated_message)\n",
        "    \n",
        "    return {\"messages\": new_messages}\n",
        "\n",
        "# Agent 역할을 하는 노드: 모델을 비동기적으로 호출합니다.\n",
        "async def call_model(state: AgentState, model):\n",
        "    \"\"\"LLM을 호출하여 응답 또는 도구 호출을 생성합니다.\"\"\"\n",
        "    messages = state[\"messages\"]\n",
        "    # .ainvoke()는 AIMessage 객체를 반환합니다.\n",
        "    response = await model.ainvoke(messages)\n",
        "    return {\"messages\": [response]}\n",
        "\n",
        "# 한글 직접 응답 노드\n",
        "async def korean_direct_answer(state: AgentState, translator_model):\n",
        "    \"\"\"도구 사용 없이 바로 한글로 답변합니다.\"\"\"\n",
        "    messages = state[\"messages\"]\n",
        "    \n",
        "    # 마지막 영어 번역된 사용자 질문 찾기\n",
        "    last_human_message = None\n",
        "    for message in reversed(messages):\n",
        "        if isinstance(message, HumanMessage):\n",
        "            last_human_message = message\n",
        "            break\n",
        "    \n",
        "    if last_human_message is None:\n",
        "        return {\"messages\": []}\n",
        "    \n",
        "    # 한글 직접 응답 프롬프트\n",
        "    korean_prompt = f\"\"\"\n",
        "        다음 질문에 대해 한국어로 직접 답변해주세요. 논문 검색이 필요하지 않은 일반적인 질문이므로 당신의 지식을 바탕으로 정확하고 자세한 답변을 제공해주세요.\n",
        "\n",
        "        질문: {last_human_message.content}\n",
        "\n",
        "        한국어 답변:\"\"\"\n",
        "\n",
        "    print(\"🔄 한글로 직접 답변 생성 중...\")\n",
        "    \n",
        "    response = await translator_model.ainvoke([HumanMessage(content=korean_prompt)])\n",
        "    korean_answer = response.content.strip()\n",
        "    \n",
        "    print(f\"한글 답변 완료!\")\n",
        "    \n",
        "    # 한글 답변으로 새로운 AIMessage 생성\n",
        "    korean_message = AIMessage(content=korean_answer)\n",
        "    \n",
        "    return {\"messages\": [korean_message]}\n",
        "\n",
        "# 영어 → 한글 번역 노드 (도구 사용 후)\n",
        "async def translate_to_korean(state: AgentState, translator_model):\n",
        "    \"\"\"영어 도구 결과를 한글로 번역합니다.\"\"\"\n",
        "    messages = state[\"messages\"]\n",
        "    \n",
        "    # 마지막 도구 실행 결과 찾기\n",
        "    last_tool_message = None\n",
        "    for message in reversed(messages):\n",
        "        if isinstance(message, ToolMessage):\n",
        "            last_tool_message = message\n",
        "            break\n",
        "    \n",
        "    if last_tool_message is None or not last_tool_message.content:\n",
        "        return {\"messages\": []}\n",
        "    \n",
        "    # 번역 프롬프트 - 논문 정보 보존\n",
        "    translation_prompt = f\"\"\"\n",
        "        다음 영어 논문 검색 결과를 한국어로 번역해주세요. 다음 규칙을 따라주세요:\n",
        "\n",
        "        번역 규칙:\n",
        "        1. PMID, DOI 등의 식별자: 그대로 유지\n",
        "        2. Title (제목): 영어 그대로 유지\n",
        "        3. Authors (저자): 영어 이름 그대로 유지 \n",
        "        4. Journal (저널명): 영어 그대로 유지\n",
        "        5. Publication Date: 영어 그대로 유지\n",
        "        6. Abstract (초록): 한국어로 상세히 번역\n",
        "        7. 기타 메타데이터: 적절히 번역하되 정보 손실 없이 보존\n",
        "\n",
        "        논문 검색 결과:\n",
        "        {last_tool_message.content}\n",
        "\n",
        "        한국어 번역:\"\"\"\n",
        "\n",
        "    print(\"🔄 논문 검색 결과를 한글로 번역 중...\")\n",
        "    \n",
        "    response = await translator_model.ainvoke([HumanMessage(content=translation_prompt)])\n",
        "    translated_text = response.content.strip()\n",
        "    \n",
        "    print(f\"최종 번역 완료!\")\n",
        "    \n",
        "    # 번역된 내용으로 새로운 AIMessage 생성\n",
        "    translated_message = AIMessage(content=translated_text)\n",
        "    \n",
        "    return {\"messages\": [translated_message]}\n",
        "\n",
        "print(\"노드 함수 정의 완료!\")\n"
      ]
    },
    {
      "cell_type": "raw",
      "metadata": {
        "vscode": {
          "languageId": "raw"
        }
      },
      "source": [
        "## 4. 조건부 엣지 로직 정의\n"
      ]
    },
    {
      "cell_type": "code",
      "execution_count": 4,
      "metadata": {},
      "outputs": [
        {
          "name": "stdout",
          "output_type": "stream",
          "text": [
            "조건부 엣지 로직 정의 완료!\n"
          ]
        }
      ],
      "source": [
        "# medical_agent.py에서 가져온 조건부 엣지 로직\n",
        "def should_continue_or_answer_medical(state: AgentState) -> str:\n",
        "    \"\"\"\n",
        "    Medical 워크플로우의 조건부 분기 로직\n",
        "    - 도구 호출이 있으면: \"continue\" (action 노드로 이동)\n",
        "    - 도구 호출이 없으면: \"direct_answer\" (한글 직접 답변 후 종료)\n",
        "    \"\"\"\n",
        "    last_message = state[\"messages\"][-1]\n",
        "    if isinstance(last_message, AIMessage) and last_message.tool_calls:\n",
        "        return \"continue\"\n",
        "    return \"direct_answer\"\n",
        "\n",
        "def after_action_medical(state: AgentState) -> str:\n",
        "    \"\"\"Medical 워크플로우의 action 후 분기 로직\"\"\"\n",
        "    messages = state[\"messages\"]\n",
        "    tool_call_count = sum(1 for msg in messages if isinstance(msg, AIMessage) and msg.tool_calls)\n",
        "    \n",
        "    last_tool_message = next(\n",
        "        (msg for msg in reversed(messages) if isinstance(msg, ToolMessage)), \n",
        "        None\n",
        "    )\n",
        "    \n",
        "    # 도구 호출이 너무 많거나 충분한 결과가 있으면 번역으로 이동\n",
        "    if tool_call_count > 2 or (last_tool_message and len(last_tool_message.content) > 200):\n",
        "        return \"translate\"\n",
        "    \n",
        "    return \"agent\"\n",
        "\n",
        "def should_continue_or_answer_general(state: AgentState) -> str:\n",
        "    \"\"\"General 워크플로우의 조건부 분기 로직\"\"\"\n",
        "    last_message = state[\"messages\"][-1]\n",
        "    if isinstance(last_message, AIMessage) and last_message.tool_calls:\n",
        "        return \"continue\"\n",
        "    return \"direct_answer\"\n",
        "\n",
        "print(\"조건부 엣지 로직 정의 완료!\")\n"
      ]
    },
    {
      "cell_type": "raw",
      "metadata": {
        "vscode": {
          "languageId": "raw"
        }
      },
      "source": [
        "## 5. 더미 도구 및 모델 설정 (시각화용)\n"
      ]
    },
    {
      "cell_type": "code",
      "execution_count": 5,
      "metadata": {},
      "outputs": [
        {
          "name": "stdout",
          "output_type": "stream",
          "text": [
            "실제 OpenAI 모델 설정 완료!\n",
            "번역 전용 모델 설정 완료!\n",
            "도구 및 모델 설정 완료!\n"
          ]
        }
      ],
      "source": [
        "# medical_agent.py에서 가져온 도구들과 모델 설정\n",
        "from langchain_core.tools import tool\n",
        "\n",
        "# 시각화를 위한 더미 도구 생성 (medical_agent.py의 실제 MCP 도구들과 유사하게)\n",
        "@tool\n",
        "def search_papers(query: str, source: str = \"pubmed\", max_results: int = 10) -> str:\n",
        "    \"\"\"Paper Search MCP를 통해 다양한 데이터베이스에서 논문을 검색합니다.\"\"\"\n",
        "    return f\"Paper Search MCP 결과 ({source}): {query}\"\n",
        "\n",
        "@tool\n",
        "def search_pubmed_direct(query: str, max_results: int = 10) -> str:\n",
        "    \"\"\"PubMed MCP Server를 통해 직접 PubMed에서 논문을 검색합니다.\"\"\"\n",
        "    return f\"PubMed MCP Server 결과: {query}\"\n",
        "\n",
        "@tool\n",
        "def download_paper_content(paper_id: str, source: str = \"pubmed\") -> str:\n",
        "    \"\"\"논문의 전문 내용을 다운로드합니다.\"\"\"\n",
        "    return f\"논문 다운로드 완료: {paper_id} from {source}\"\n",
        "\n",
        "@tool\n",
        "def extract_paper_metadata(paper_url: str) -> str:\n",
        "    \"\"\"논문의 메타데이터를 추출합니다.\"\"\"\n",
        "    return f\"메타데이터 추출 완료: {paper_url}\"\n",
        "\n",
        "# 더미 도구 리스트\n",
        "tools = [search_papers, search_pubmed_direct, download_paper_content, extract_paper_metadata]\n",
        "\n",
        "# 모델 설정\n",
        "try:\n",
        "    model = ChatOpenAI(temperature=0, streaming=True, model=\"gpt-4o\")\n",
        "    translator_model = ChatOpenAI(temperature=0, model=\"gpt-4o\")\n",
        "    model_with_tools = model.bind_tools(tools)\n",
        "    print(\"실제 OpenAI 모델 설정 완료!\")\n",
        "    print(\"번역 전용 모델 설정 완료!\")\n",
        "except Exception as e:\n",
        "    print(f\"OpenAI 모델 설정 실패 (API 키 문제일 수 있음): {e}\")\n",
        "    print(\"더미 모델로 진행...\")\n",
        "    \n",
        "    class DummyModel:\n",
        "        def bind_tools(self, tools):\n",
        "            return self\n",
        "        async def ainvoke(self, messages):\n",
        "            from langchain_core.messages import AIMessage\n",
        "            return AIMessage(content=\"더미 응답\")\n",
        "    \n",
        "    model_with_tools = DummyModel()\n",
        "    translator_model = DummyModel()\n",
        "\n",
        "print(\"도구 및 모델 설정 완료!\")\n"
      ]
    },
    {
      "cell_type": "raw",
      "metadata": {
        "vscode": {
          "languageId": "raw"
        }
      },
      "source": [
        "## 6. 워크플로우 그래프 생성\n"
      ]
    },
    {
      "cell_type": "code",
      "execution_count": 6,
      "metadata": {},
      "outputs": [
        {
          "name": "stdout",
          "output_type": "stream",
          "text": [
            "의료 논문 검색 워크플로우 생성 완료!\n"
          ]
        }
      ],
      "source": [
        "# medical_agent.py에서 가져온 의료 워크플로우 구조\n",
        "from langgraph.prebuilt import ToolNode\n",
        "\n",
        "# WorkflowFactory 구현 (medical_agent.py 스타일)\n",
        "class WorkflowFactory:\n",
        "    @staticmethod\n",
        "    def create_medical_workflow(tools, model, translator_model):\n",
        "        \"\"\"의료 논문 검색 워크플로우 생성 (medical_agent.py의 실제 구조)\"\"\"\n",
        "        workflow = StateGraph(AgentState)\n",
        "        \n",
        "        # safe_tool_node 구현 (안전한 도구 실행)\n",
        "        async def safe_tool_node(state):\n",
        "            try:\n",
        "                tool_node = ToolNode(tools)\n",
        "                result = await tool_node.ainvoke(state)\n",
        "                return result\n",
        "            except Exception as e:\n",
        "                print(f\"도구 실행 오류: {e}\")\n",
        "                from langchain_core.messages import ToolMessage\n",
        "                return {\"messages\": [ToolMessage(content=f\"오류: {str(e)}\", tool_call_id=\"error\")]}\n",
        "        \n",
        "        # 노드 정의 (medical_agent.py와 동일한 구조)\n",
        "        workflow.add_node(\"translate_to_english\", partial(translate_to_english, translator_model=translator_model))\n",
        "        workflow.add_node(\"agent\", partial(call_model, model=model))\n",
        "        workflow.add_node(\"action\", safe_tool_node)\n",
        "        workflow.add_node(\"translate_to_korean\", partial(translate_to_korean, translator_model=translator_model))\n",
        "        workflow.add_node(\"direct_answer\", partial(korean_direct_answer, translator_model=translator_model))\n",
        "        \n",
        "        # 엣지 정의 (medical_agent.py와 동일한 흐름)\n",
        "        workflow.set_entry_point(\"translate_to_english\")\n",
        "        workflow.add_edge(\"translate_to_english\", \"agent\")\n",
        "        workflow.add_conditional_edges(\n",
        "            \"agent\", \n",
        "            should_continue_or_answer_medical, \n",
        "            {\n",
        "                \"continue\": \"action\", \n",
        "                \"direct_answer\": \"direct_answer\"\n",
        "            }\n",
        "        )\n",
        "        workflow.add_conditional_edges(\n",
        "            \"action\",\n",
        "            after_action_medical,\n",
        "            {\n",
        "                \"agent\": \"agent\",\n",
        "                \"translate\": \"translate_to_korean\"\n",
        "            }\n",
        "        )\n",
        "        workflow.add_edge(\"translate_to_korean\", END)\n",
        "        workflow.add_edge(\"direct_answer\", END)\n",
        "        \n",
        "        return workflow\n",
        "\n",
        "# Medical Workflow 생성\n",
        "medical_workflow = WorkflowFactory.create_medical_workflow(tools, model_with_tools, translator_model)\n",
        "\n",
        "print(\"의료 논문 검색 워크플로우 생성 완료!\")\n"
      ]
    },
    {
      "cell_type": "raw",
      "metadata": {
        "vscode": {
          "languageId": "raw"
        }
      },
      "source": [
        "## 7. 그래프 시각화 🎯\n"
      ]
    },
    {
      "cell_type": "code",
      "execution_count": 7,
      "metadata": {},
      "outputs": [
        {
          "name": "stdout",
          "output_type": "stream",
          "text": [
            "의료 논문 검색 워크플로우 시각화를 생성합니다...\n"
          ]
        },
        {
          "data": {
            "image/png": "[encoded data removed]",
            "text/plain": [
              "<IPython.core.display.Image object>"
            ]
          },
          "metadata": {},
          "output_type": "display_data"
        }
      ],
      "source": [
        "# medical_agent.py 기반 의료 워크플로우 시각화\n",
        "# 의료 워크플로우 그래프 컴파일\n",
        "medical_app = medical_workflow.compile()\n",
        "\n",
        "# 그래프 시각화\n",
        "print(\"의료 논문 검색 워크플로우 시각화를 생성합니다...\")\n",
        "visualize_graph(medical_app)\n"
      ]
    },
    {
      "cell_type": "raw",
      "metadata": {
        "vscode": {
          "languageId": "raw"
        }
      },
      "source": [
        "## 8. medical_agent.py 기반 의료 워크플로우 설명\n",
        "\n",
        "이 워크플로우는 `medical_agent.py`에서 실제 사용되는 `WorkflowFactory.create_medical_workflow()` 구조를 기반으로 합니다.\n",
        "\n",
        "### 노드 설명:\n",
        "- **translate_to_english**: 한글 사용자 입력을 의료/과학 논문 검색에 적합한 영어로 전문 번역하는 노드\n",
        "- **agent**: LLM이 번역된 질문을 분석하고 어떤 MCP 도구를 사용할지 결정하는 핵심 에이전트 노드  \n",
        "- **action (safe_tool_node)**: Paper Search MCP, PubMed MCP Server 등 실제 논문 검색 도구들을 안전하게 실행하는 노드\n",
        "- **direct_answer**: 논문 검색 없이 바로 한국어로 답변하는 노드 (일반 상식 질문 등)\n",
        "- **translate_to_korean**: 영어 논문 검색 결과를 메타데이터는 보존하면서 한국어로 번역하는 노드\n",
        "\n",
        "### 엣지 설명 (medical_agent.py 기반):\n",
        "- **translate_to_english → agent**: 한글 입력 번역 후 AI 에이전트로 전달\n",
        "- **agent → should_continue_or_answer_medical**: 의료 워크플로우 전용 분기 로직\n",
        "  - **continue**: 논문 검색이 필요한 경우 action 노드로 이동\n",
        "  - **direct_answer**: 논문 검색 없이 바로 한국어 답변 가능한 경우\n",
        "- **action → after_action_medical**: 의료 워크플로우 전용 후처리 로직\n",
        "  - **agent**: 정보가 부족하여 추가 도구 호출이 필요한 경우 (최대 2-3회)\n",
        "  - **translate**: 충분한 정보 수집 후 번역 단계로 이동\n",
        "- **translate_to_korean → END**: 한국어 번역 완료 후 워크플로우 종료\n",
        "- **direct_answer → END**: 한국어 직접 답변 완료 후 워크플로우 종료\n",
        "\n",
        "### medical_agent.py의 실제 실행 흐름:\n",
        "1. 사용자가 한글로 질문 입력 (의료 논문 관련 또는 일반 질문)\n",
        "2. **translate_to_english** 노드에서 의료 용어 특화 번역 수행\n",
        "3. **agent** 노드에서 LLM이 번역된 질문을 분석하여 분기 결정:\n",
        "   - **경로 A (논문 검색 필요)**: **action (safe_tool_node)** 로 이동\n",
        "     - Paper Search MCP, PubMed MCP Server 등 실제 MCP 도구 실행\n",
        "     - 안전한 오류 처리 및 재시도 메커니즘\n",
        "     - **after_action_medical** 로직에 따라 추가 검색 또는 번역 단계로 분기\n",
        "   - **경로 B (직접 답변 가능)**: **direct_answer** 노드로 이동\n",
        "     - 한국어로 직접 답변 생성 (별도 번역 과정 없음)\n",
        "4. 최종 답변을 사용자에게 제공하고 워크플로우 종료\n",
        "\n",
        "### medical_agent.py의 고급 특징:\n",
        "- **안전한 도구 실행**: safe_tool_node로 MCP 도구 오류 처리\n",
        "- **의료 특화 번역**: 의학 용어 정확성과 메타데이터 보존\n",
        "- **지능형 분기**: 의료/일반 질문에 따른 최적화된 처리 경로\n",
        "- **무한 루프 방지**: 도구 호출 횟수 제한으로 효율적인 검색 제어\n",
        "- **상태 관리**: AgentState를 통한 완전한 대화 컨텍스트 유지\n"
      ]
    },
    {
      "cell_type": "raw",
      "metadata": {
        "vscode": {
          "languageId": "raw"
        }
      },
      "source": [
        "## 9. General 워크플로우 추가 시각화\n",
        "\n",
        "medical_agent.py에는 의료 워크플로우 외에도 일반 질문을 위한 General 워크플로우도 있습니다. 이를 추가로 시각화해보겠습니다.\n"
      ]
    },
    {
      "cell_type": "code",
      "execution_count": 8,
      "metadata": {},
      "outputs": [
        {
          "name": "stdout",
          "output_type": "stream",
          "text": [
            "일반 질문 워크플로우 생성 완료!\n"
          ]
        }
      ],
      "source": [
        "# medical_agent.py의 General 워크플로우 구현\n",
        "class WorkflowFactory:\n",
        "    @staticmethod\n",
        "    def create_general_workflow(tools, model, translator_model):\n",
        "        \"\"\"일반 질문 워크플로우 생성 (medical_agent.py의 실제 구조)\"\"\"\n",
        "        workflow = StateGraph(AgentState)\n",
        "        \n",
        "        # korean_agent 구현 (한국어 에이전트)\n",
        "        async def korean_agent(state):\n",
        "            try:\n",
        "                messages = state[\"messages\"]\n",
        "                response = await model.ainvoke(messages)\n",
        "                return {\"messages\": [response]}\n",
        "            except Exception as e:\n",
        "                print(f\"한국어 에이전트 오류: {e}\")\n",
        "                from langchain_core.messages import AIMessage\n",
        "                return {\"messages\": [AIMessage(content=f\"죄송합니다. 오류가 발생했습니다: {str(e)}\")]}\n",
        "        \n",
        "        # simple_tool_node 구현 (단순한 도구 실행)\n",
        "        async def simple_tool_node(state):\n",
        "            try:\n",
        "                tool_node = ToolNode(tools)\n",
        "                result = await tool_node.ainvoke(state)\n",
        "                return result\n",
        "            except Exception as e:\n",
        "                print(f\"도구 실행 오류: {e}\")\n",
        "                from langchain_core.messages import ToolMessage\n",
        "                return {\"messages\": [ToolMessage(content=f\"오류: {str(e)}\", tool_call_id=\"error\")]}\n",
        "        \n",
        "        # format_korean_response 구현 (한국어 응답 포맷팅)\n",
        "        async def format_korean_response(state):\n",
        "            try:\n",
        "                messages = state[\"messages\"]\n",
        "                last_tool_message = None\n",
        "                for message in reversed(messages):\n",
        "                    if isinstance(message, ToolMessage):\n",
        "                        last_tool_message = message\n",
        "                        break\n",
        "                \n",
        "                if last_tool_message and last_tool_message.content:\n",
        "                    # 도구 결과를 한국어로 포맷팅\n",
        "                    format_prompt = f\"\"\"\n",
        "                    다음 도구 실행 결과를 한국어로 자연스럽게 포맷팅해주세요:\n",
        "                    \n",
        "                    {last_tool_message.content}\n",
        "                    \n",
        "                    한국어 답변:\"\"\"\n",
        "                    \n",
        "                    response = await translator_model.ainvoke([HumanMessage(content=format_prompt)])\n",
        "                    from langchain_core.messages import AIMessage\n",
        "                    return {\"messages\": [AIMessage(content=response.content.strip())]}\n",
        "                else:\n",
        "                    from langchain_core.messages import AIMessage\n",
        "                    return {\"messages\": [AIMessage(content=\"도구 실행 결과를 받지 못했습니다.\")]}\n",
        "            except Exception as e:\n",
        "                print(f\"응답 포맷팅 오류: {e}\")\n",
        "                from langchain_core.messages import AIMessage\n",
        "                return {\"messages\": [AIMessage(content=f\"응답 처리 중 오류가 발생했습니다: {str(e)}\")]}\n",
        "        \n",
        "        # 노드 정의 (General 워크플로우)\n",
        "        workflow.add_node(\"korean_agent\", korean_agent)\n",
        "        workflow.add_node(\"action\", simple_tool_node)\n",
        "        workflow.add_node(\"format_response\", format_korean_response)\n",
        "        \n",
        "        # 엣지 정의 (General 워크플로우)\n",
        "        workflow.set_entry_point(\"korean_agent\")\n",
        "        workflow.add_conditional_edges(\n",
        "            \"korean_agent\", \n",
        "            should_continue_or_answer_general, \n",
        "            {\n",
        "                \"continue\": \"action\", \n",
        "                \"direct_answer\": END\n",
        "            }\n",
        "        )\n",
        "        workflow.add_edge(\"action\", \"format_response\")\n",
        "        workflow.add_edge(\"format_response\", END)\n",
        "        \n",
        "        return workflow\n",
        "\n",
        "# General Workflow 생성\n",
        "general_workflow = WorkflowFactory.create_general_workflow(tools, model_with_tools, translator_model)\n",
        "\n",
        "print(\"일반 질문 워크플로우 생성 완료!\")\n"
      ]
    },
    {
      "cell_type": "code",
      "execution_count": 9,
      "metadata": {},
      "outputs": [
        {
          "name": "stdout",
          "output_type": "stream",
          "text": [
            "일반 질문 워크플로우 시각화를 생성합니다...\n"
          ]
        },
        {
          "data": {
            "image/png": "[encoded data removed]",
            "text/plain": [
              "<IPython.core.display.Image object>"
            ]
          },
          "metadata": {},
          "output_type": "display_data"
        }
      ],
      "source": [
        "# General 워크플로우 시각화\n",
        "general_app = general_workflow.compile()\n",
        "\n",
        "print(\"일반 질문 워크플로우 시각화를 생성합니다...\")\n",
        "visualize_graph(general_app)\n"
      ]
    },
    {
      "cell_type": "raw",
      "metadata": {
        "vscode": {
          "languageId": "raw"
        }
      },
      "source": [
        "## 10. 두 워크플로우 비교 (medical_agent.py 기반)\n",
        "\n",
        "### Medical Workflow vs General Workflow\n",
        "\n",
        "| 특징 | Medical Workflow | General Workflow |\n",
        "|------|-----------------|------------------|\n",
        "| **목적** | 의료/과학 논문 검색 및 번역 | 일반 질문에 대한 한국어 답변 |\n",
        "| **시작점** | translate_to_english | korean_agent |\n",
        "| **번역** | 한→영, 영→한 이중 번역 | 필요시에만 응답 포맷팅 |\n",
        "| **도구 실행** | safe_tool_node (안전한 실행) | simple_tool_node (단순 실행) |\n",
        "| **분기 로직** | should_continue_or_answer_medical | should_continue_or_answer_general |\n",
        "| **후처리** | after_action_medical (재시도 지원) | format_korean_response |\n",
        "| **특화 기능** | 의료 용어 번역, 메타데이터 보존 | 한국어 직접 처리 |\n",
        "\n",
        "### 워크플로우 선택 기준 (medical_agent.py):\n",
        "\n",
        "1. **Medical Workflow 사용 시기**:\n",
        "   - 의료/과학 논문 검색이 필요한 질문\n",
        "   - 영어 논문 데이터베이스 접근이 필요한 경우\n",
        "   - PubMed, arXiv, bioRxiv 등 학술 데이터베이스 검색\n",
        "   - 논문 메타데이터 추출 및 분석\n",
        "\n",
        "2. **General Workflow 사용 시기**:\n",
        "   - 일반적인 상식 질문\n",
        "   - 한국어로 직접 답변 가능한 질문\n",
        "   - 번역이 불필요한 단순한 도구 사용\n",
        "   - 빠른 응답이 필요한 경우\n",
        "\n",
        "### medical_agent.py의 실제 워크플로우 선택 로직:\n",
        "\n",
        "```python\n",
        "# WorkflowClassifier를 통한 자동 선택\n",
        "workflow_type = await WorkflowClassifier.select_workflow_type(query, tools)\n",
        "\n",
        "if workflow_type == \"medical\":\n",
        "    workflow = WorkflowFactory.create_medical_workflow(tools, model, translator)\n",
        "else:\n",
        "    workflow = WorkflowFactory.create_general_workflow(tools, model, translator)\n",
        "```\n",
        "\n",
        "이렇게 두 가지 워크플로우를 통해 의료 전문 질문과 일반 질문을 모두 효율적으로 처리할 수 있습니다.\n"
      ]
    },
    {
      "cell_type": "raw",
      "metadata": {
        "vscode": {
          "languageId": "raw"
        }
      },
      "source": [
        "## 11. 완료!\n",
        "\n",
        "`medical_agent.py`에 있는 실제 LangGraph 워크플로우가 성공적으로 시각화되었습니다.\n",
        "\n",
        "### 업데이트된 내용:\n",
        "1. ✅ **AgentState** - medical_agent.py의 상태 정의 적용\n",
        "2. ✅ **노드 함수들** - translate_to_english, call_model, translate_to_korean, korean_direct_answer 적용\n",
        "3. ✅ **조건부 엣지** - should_continue_or_answer_medical, after_action_medical 적용\n",
        "4. ✅ **WorkflowFactory** - create_medical_workflow, create_general_workflow 구현\n",
        "5. ✅ **안전한 도구 실행** - safe_tool_node, simple_tool_node 구현\n",
        "6. ✅ **두 워크플로우 시각화** - Medical과 General 워크플로우 모두 시각화\n",
        "\n",
        "이제 노트북을 실행하면 medical_agent.py에 정의된 실제 워크플로우 구조를 확인할 수 있습니다!\n"
      ]
    },
    {
      "cell_type": "raw",
      "metadata": {
        "vscode": {
          "languageId": "raw"
        }
      },
      "source": [
        "## 9. 업데이트된 워크플로우의 고급 기능\n",
        "\n",
        "이 업데이트된 워크플로우는 다음과 같은 고급 특징을 가집니다:\n",
        "\n",
        "### 핵심 기능:\n",
        "- **이중 언어 지원**: 한국어로 질문하고 한국어로 답변받는 완전한 한국어 UX\n",
        "- **스마트 번역**: 의료/과학 용어를 정확히 번역하는 전문 번역 시스템\n",
        "- **다중 MCP 서버**: Paper Search MCP와 PubMed MCP Server를 동시 활용\n",
        "- **비동기 처리**: 모든 노드가 비동기적으로 실행되어 효율적인 처리가 가능\n",
        "- **조건부 분기**: LLM의 판단에 따라 도구 사용 여부가 동적으로 결정\n",
        "- **지능형 순환 구조**: 필요에 따라 여러 번의 도구 호출과 결과 분석이 가능하되 무한 루프 방지\n",
        "- **상태 관리**: 모든 대화 내용이 상태로 관리되어 컨텍스트 유지\n",
        "\n",
        "### 번역 시스템 특징:\n",
        "- **의료 용어 특화**: 의학/생명과학 용어를 정확히 번역\n",
        "- **메타데이터 보존**: PMID, DOI, 저자명, 저널명 등은 원문 그대로 유지\n",
        "- **논문 초록 번역**: Abstract 내용은 자연스러운 한국어로 번역\n",
        "- **검색 키워드 최적화**: 검색에 최적화된 영어 키워드로 변환\n",
        "\n",
        "### 실제 MCP 서버 연결 시 제공되는 기능:\n",
        "1. **Paper Search MCP**:\n",
        "   - PubMed, arXiv, bioRxiv, medRxiv 등 다중 데이터베이스 검색\n",
        "   - 통합 검색 인터페이스\n",
        "   - 고급 필터링 기능\n",
        "\n",
        "2. **PubMed MCP Server**:\n",
        "   - PubMed 전용 고속 검색\n",
        "   - PMID 기반 논문 상세 정보 추출\n",
        "   - Medical Subject Headings (MeSH) 용어 활용\n",
        "\n",
        "3. **논문 관리 기능**:\n",
        "   - 논문 전문 다운로드\n",
        "   - 메타데이터 자동 추출\n",
        "   - 인용 정보 수집\n",
        "   - 관련 논문 추천\n",
        "\n",
        "### 사용 예시:\n",
        "```\n",
        "사용자: \"당뇨병 치료에 대한 최신 연구 논문을 찾아줘\"\n",
        "↓\n",
        "번역: \"latest research papers on diabetes treatment\"\n",
        "↓ \n",
        "검색: Paper Search MCP + PubMed MCP Server\n",
        "↓\n",
        "번역: 영어 검색 결과를 한국어로 번역\n",
        "↓\n",
        "출력: \"당뇨병 치료에 관한 최신 연구 논문들을...\"\n",
        "```\n"
      ]
    },
    {
      "cell_type": "raw",
      "metadata": {},
      "source": []
    },
    {
      "cell_type": "raw",
      "metadata": {},
      "source": []
    }
  ],
  "metadata": {
    "kernelspec": {
      "display_name": "mcp_python_env",
      "language": "python",
      "name": "python3"
    },
    "language_info": {
      "codemirror_mode": {
        "name": "ipython",
        "version": 3
      },
      "file_extension": ".py",
      "mimetype": "text/x-python",
      "name": "python",
      "nbconvert_exporter": "python",
      "pygments_lexer": "ipython3",
      "version": "3.12.9"
    }
  },
  "nbformat": 4,
  "nbformat_minor": 2
}
